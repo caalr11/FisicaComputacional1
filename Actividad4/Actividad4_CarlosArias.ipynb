{
  "nbformat": 4,
  "nbformat_minor": 0,
  "metadata": {
    "colab": {
      "name": "Actividad4_CarlosArias.ipynb",
      "provenance": [],
      "authorship_tag": "ABX9TyPSr1m9NV9h7N3vhw4xP8Zp",
      "include_colab_link": true
    },
    "kernelspec": {
      "name": "python3",
      "display_name": "Python 3"
    }
  },
  "cells": [
    {
      "cell_type": "markdown",
      "metadata": {
        "id": "view-in-github",
        "colab_type": "text"
      },
      "source": [
        "<a href=\"https://colab.research.google.com/github/caalr11/FisicaComputacional1/blob/master/Actividad4_CarlosArias.ipynb\" target=\"_parent\"><img src=\"https://colab.research.google.com/assets/colab-badge.svg\" alt=\"Open In Colab\"/></a>"
      ]
    },
    {
      "cell_type": "code",
      "metadata": {
        "id": "IVyH3YTwnZ5N"
      },
      "source": [
        "import numpy as np\r\n",
        "import pandas as pd\r\n",
        "import matplotlib.pyplot as plt"
      ],
      "execution_count": 1,
      "outputs": []
    },
    {
      "cell_type": "code",
      "metadata": {
        "id": "MDt3bPrGnpoL"
      },
      "source": [
        "url =\"https://raw.githubusercontent.com/caalr11/FisicaComputacional1/master/Actividad1/data%20guaymas.txt\"\r\n",
        "col =  ['Fecha', 'Precip', 'Evap', 'Tmax', 'Tmin'] \r\n",
        "df_tarea = pd.read_csv(url, names=col, encoding='cp1251', sep='\\s+', header=None, skiprows=19, skipfooter=1, engine='python')"
      ],
      "execution_count": 2,
      "outputs": []
    },
    {
      "cell_type": "code",
      "metadata": {
        "colab": {
          "base_uri": "https://localhost:8080/",
          "height": 195
        },
        "id": "Mz4iLwz1nrtp",
        "outputId": "970bf084-e394-4cdb-9ee2-5e790298a1b9"
      },
      "source": [
        "df_ca0 = df_tarea.copy()\r\n",
        "df_ca0.tail()"
      ],
      "execution_count": 3,
      "outputs": [
        {
          "output_type": "execute_result",
          "data": {
            "text/html": [
              "<div>\n",
              "<style scoped>\n",
              "    .dataframe tbody tr th:only-of-type {\n",
              "        vertical-align: middle;\n",
              "    }\n",
              "\n",
              "    .dataframe tbody tr th {\n",
              "        vertical-align: top;\n",
              "    }\n",
              "\n",
              "    .dataframe thead th {\n",
              "        text-align: right;\n",
              "    }\n",
              "</style>\n",
              "<table border=\"1\" class=\"dataframe\">\n",
              "  <thead>\n",
              "    <tr style=\"text-align: right;\">\n",
              "      <th></th>\n",
              "      <th>Fecha</th>\n",
              "      <th>Precip</th>\n",
              "      <th>Evap</th>\n",
              "      <th>Tmax</th>\n",
              "      <th>Tmin</th>\n",
              "    </tr>\n",
              "  </thead>\n",
              "  <tbody>\n",
              "    <tr>\n",
              "      <th>17874</th>\n",
              "      <td>26/09/2016</td>\n",
              "      <td>0</td>\n",
              "      <td>Nulo</td>\n",
              "      <td>37</td>\n",
              "      <td>20</td>\n",
              "    </tr>\n",
              "    <tr>\n",
              "      <th>17875</th>\n",
              "      <td>27/09/2016</td>\n",
              "      <td>0</td>\n",
              "      <td>Nulo</td>\n",
              "      <td>37</td>\n",
              "      <td>20</td>\n",
              "    </tr>\n",
              "    <tr>\n",
              "      <th>17876</th>\n",
              "      <td>28/09/2016</td>\n",
              "      <td>0</td>\n",
              "      <td>Nulo</td>\n",
              "      <td>38</td>\n",
              "      <td>20</td>\n",
              "    </tr>\n",
              "    <tr>\n",
              "      <th>17877</th>\n",
              "      <td>29/09/2016</td>\n",
              "      <td>0</td>\n",
              "      <td>Nulo</td>\n",
              "      <td>37</td>\n",
              "      <td>24</td>\n",
              "    </tr>\n",
              "    <tr>\n",
              "      <th>17878</th>\n",
              "      <td>30/09/2016</td>\n",
              "      <td>0</td>\n",
              "      <td>Nulo</td>\n",
              "      <td>37</td>\n",
              "      <td>21</td>\n",
              "    </tr>\n",
              "  </tbody>\n",
              "</table>\n",
              "</div>"
            ],
            "text/plain": [
              "            Fecha Precip  Evap Tmax Tmin\n",
              "17874  26/09/2016      0  Nulo   37   20\n",
              "17875  27/09/2016      0  Nulo   37   20\n",
              "17876  28/09/2016      0  Nulo   38   20\n",
              "17877  29/09/2016      0  Nulo   37   24\n",
              "17878  30/09/2016      0  Nulo   37   21"
            ]
          },
          "metadata": {
            "tags": []
          },
          "execution_count": 3
        }
      ]
    },
    {
      "cell_type": "code",
      "metadata": {
        "colab": {
          "base_uri": "https://localhost:8080/",
          "height": 195
        },
        "id": "Hqr_9GmUoFAi",
        "outputId": "fbcafd21-a4ca-4de8-97f3-fb143208bfcb"
      },
      "source": [
        "str_Nulo = 'Nulo'\r\n",
        "df_ca1 = df_ca0.replace(to_replace=str_Nulo, value='', regex=True)\r\n",
        "df_ca1.tail()"
      ],
      "execution_count": 4,
      "outputs": [
        {
          "output_type": "execute_result",
          "data": {
            "text/html": [
              "<div>\n",
              "<style scoped>\n",
              "    .dataframe tbody tr th:only-of-type {\n",
              "        vertical-align: middle;\n",
              "    }\n",
              "\n",
              "    .dataframe tbody tr th {\n",
              "        vertical-align: top;\n",
              "    }\n",
              "\n",
              "    .dataframe thead th {\n",
              "        text-align: right;\n",
              "    }\n",
              "</style>\n",
              "<table border=\"1\" class=\"dataframe\">\n",
              "  <thead>\n",
              "    <tr style=\"text-align: right;\">\n",
              "      <th></th>\n",
              "      <th>Fecha</th>\n",
              "      <th>Precip</th>\n",
              "      <th>Evap</th>\n",
              "      <th>Tmax</th>\n",
              "      <th>Tmin</th>\n",
              "    </tr>\n",
              "  </thead>\n",
              "  <tbody>\n",
              "    <tr>\n",
              "      <th>17874</th>\n",
              "      <td>26/09/2016</td>\n",
              "      <td>0</td>\n",
              "      <td></td>\n",
              "      <td>37</td>\n",
              "      <td>20</td>\n",
              "    </tr>\n",
              "    <tr>\n",
              "      <th>17875</th>\n",
              "      <td>27/09/2016</td>\n",
              "      <td>0</td>\n",
              "      <td></td>\n",
              "      <td>37</td>\n",
              "      <td>20</td>\n",
              "    </tr>\n",
              "    <tr>\n",
              "      <th>17876</th>\n",
              "      <td>28/09/2016</td>\n",
              "      <td>0</td>\n",
              "      <td></td>\n",
              "      <td>38</td>\n",
              "      <td>20</td>\n",
              "    </tr>\n",
              "    <tr>\n",
              "      <th>17877</th>\n",
              "      <td>29/09/2016</td>\n",
              "      <td>0</td>\n",
              "      <td></td>\n",
              "      <td>37</td>\n",
              "      <td>24</td>\n",
              "    </tr>\n",
              "    <tr>\n",
              "      <th>17878</th>\n",
              "      <td>30/09/2016</td>\n",
              "      <td>0</td>\n",
              "      <td></td>\n",
              "      <td>37</td>\n",
              "      <td>21</td>\n",
              "    </tr>\n",
              "  </tbody>\n",
              "</table>\n",
              "</div>"
            ],
            "text/plain": [
              "            Fecha Precip Evap Tmax Tmin\n",
              "17874  26/09/2016      0        37   20\n",
              "17875  27/09/2016      0        37   20\n",
              "17876  28/09/2016      0        38   20\n",
              "17877  29/09/2016      0        37   24\n",
              "17878  30/09/2016      0        37   21"
            ]
          },
          "metadata": {
            "tags": []
          },
          "execution_count": 4
        }
      ]
    },
    {
      "cell_type": "code",
      "metadata": {
        "colab": {
          "base_uri": "https://localhost:8080/"
        },
        "id": "VzbIcaZyoMS-",
        "outputId": "708f7823-6776-4916-e7b7-695634f8231f"
      },
      "source": [
        "cols_list = ['Precip', 'Evap', 'Tmax', 'Tmin']\r\n",
        "for cols in cols_list:\r\n",
        "  df_ca1[cols] = pd.to_numeric(df_ca1[cols], errors='coerce')\r\n",
        "\r\n",
        "df_ca1.info()"
      ],
      "execution_count": 5,
      "outputs": [
        {
          "output_type": "stream",
          "text": [
            "<class 'pandas.core.frame.DataFrame'>\n",
            "RangeIndex: 17879 entries, 0 to 17878\n",
            "Data columns (total 5 columns):\n",
            " #   Column  Non-Null Count  Dtype  \n",
            "---  ------  --------------  -----  \n",
            " 0   Fecha   17879 non-null  object \n",
            " 1   Precip  17847 non-null  float64\n",
            " 2   Evap    5731 non-null   float64\n",
            " 3   Tmax    17823 non-null  float64\n",
            " 4   Tmin    17828 non-null  float64\n",
            "dtypes: float64(4), object(1)\n",
            "memory usage: 698.5+ KB\n"
          ],
          "name": "stdout"
        }
      ]
    },
    {
      "cell_type": "code",
      "metadata": {
        "colab": {
          "base_uri": "https://localhost:8080/"
        },
        "id": "zmVW0DOgoTdh",
        "outputId": "6f693192-8f26-411c-ec74-2c1c53c24d7d"
      },
      "source": [
        "df_ca2 = df_ca1.copy()\r\n",
        "\r\n",
        "df_ca2['Fecha'].head()"
      ],
      "execution_count": 6,
      "outputs": [
        {
          "output_type": "execute_result",
          "data": {
            "text/plain": [
              "0    01/02/1967\n",
              "1    02/02/1967\n",
              "2    03/02/1967\n",
              "3    04/02/1967\n",
              "4    05/02/1967\n",
              "Name: Fecha, dtype: object"
            ]
          },
          "metadata": {
            "tags": []
          },
          "execution_count": 6
        }
      ]
    },
    {
      "cell_type": "code",
      "metadata": {
        "colab": {
          "base_uri": "https://localhost:8080/"
        },
        "id": "G4f4NMKcoUJh",
        "outputId": "c857b309-620c-432a-df09-e1f9a27357c6"
      },
      "source": [
        "df_ca2['Fecha'] = pd.to_datetime(df_ca2['Fecha'], dayfirst=True).copy()\r\n",
        "print(df_ca2.head())"
      ],
      "execution_count": 7,
      "outputs": [
        {
          "output_type": "stream",
          "text": [
            "       Fecha  Precip  Evap  Tmax  Tmin\n",
            "0 1967-02-01     0.0   NaN  20.0   8.0\n",
            "1 1967-02-02     0.0   NaN  21.0   9.0\n",
            "2 1967-02-03     0.0   NaN  26.0   8.0\n",
            "3 1967-02-04     0.0   NaN  25.0   7.0\n",
            "4 1967-02-05     0.0   NaN  23.0   7.0\n"
          ],
          "name": "stdout"
        }
      ]
    },
    {
      "cell_type": "code",
      "metadata": {
        "id": "s0DRsFPDoXNk"
      },
      "source": [
        "df_ca2['Año'] = df_ca2['Fecha'].dt.year\r\n",
        "df_ca2['Mes'] = df_ca2['Fecha'].dt.month"
      ],
      "execution_count": 8,
      "outputs": []
    },
    {
      "cell_type": "code",
      "metadata": {
        "colab": {
          "base_uri": "https://localhost:8080/"
        },
        "id": "_scOMNXfobPE",
        "outputId": "451a1aa3-0d9a-4c91-af49-7f1810f532f5"
      },
      "source": [
        "print(df_ca2.head())\r\n",
        "print(df_ca2.tail())"
      ],
      "execution_count": 9,
      "outputs": [
        {
          "output_type": "stream",
          "text": [
            "       Fecha  Precip  Evap  Tmax  Tmin   Año  Mes\n",
            "0 1967-02-01     0.0   NaN  20.0   8.0  1967    2\n",
            "1 1967-02-02     0.0   NaN  21.0   9.0  1967    2\n",
            "2 1967-02-03     0.0   NaN  26.0   8.0  1967    2\n",
            "3 1967-02-04     0.0   NaN  25.0   7.0  1967    2\n",
            "4 1967-02-05     0.0   NaN  23.0   7.0  1967    2\n",
            "           Fecha  Precip  Evap  Tmax  Tmin   Año  Mes\n",
            "17874 2016-09-26     0.0   NaN  37.0  20.0  2016    9\n",
            "17875 2016-09-27     0.0   NaN  37.0  20.0  2016    9\n",
            "17876 2016-09-28     0.0   NaN  38.0  20.0  2016    9\n",
            "17877 2016-09-29     0.0   NaN  37.0  24.0  2016    9\n",
            "17878 2016-09-30     0.0   NaN  37.0  21.0  2016    9\n"
          ],
          "name": "stdout"
        }
      ]
    },
    {
      "cell_type": "code",
      "metadata": {
        "id": "Mifs7S1cojYQ"
      },
      "source": [
        "df_ca3=df_ca2.copy()"
      ],
      "execution_count": 10,
      "outputs": []
    },
    {
      "cell_type": "code",
      "metadata": {
        "id": "q4XIq2jKoxsp"
      },
      "source": [
        "import matplotlib.pyplot as plt\r\n",
        "import seaborn as sns"
      ],
      "execution_count": 12,
      "outputs": []
    },
    {
      "cell_type": "code",
      "metadata": {
        "colab": {
          "base_uri": "https://localhost:8080/",
          "height": 295
        },
        "id": "OP8UMnbdo1lQ",
        "outputId": "a80d5701-e9a4-49ed-ed92-6281ae1b992d"
      },
      "source": [
        "#precipitacion\r\n",
        "sns.histplot(df_ca3['Precip'],kde=False,color='blue', bins=30)\r\n",
        "plt.title('Distribucion de precipitacion en Guaymas')\r\n",
        "plt.yscale('log')\r\n",
        "plt.xlabel('log(Precipitacion (mm))')\r\n",
        "plt.ylabel('Frecuencia Absoluta')\r\n",
        "plt.grid()\r\n",
        "plt.show()"
      ],
      "execution_count": 14,
      "outputs": [
        {
          "output_type": "display_data",
          "data": {
            "image/png": "[encoded data removed]",
            "text/plain": [
              "<Figure size 432x288 with 1 Axes>"
            ]
          },
          "metadata": {
            "tags": [],
            "needs_background": "light"
          }
        }
      ]
    },
    {
      "cell_type": "code",
      "metadata": {
        "colab": {
          "base_uri": "https://localhost:8080/",
          "height": 295
        },
        "id": "dznMZweYpI77",
        "outputId": "58efcce5-6e2d-452a-9784-dc2b50c3abef"
      },
      "source": [
        "#Evaporacion\r\n",
        "sns.histplot(df_ca3['Evap'],kde=False,color='red', bins=30)\r\n",
        "plt.title('Distribucion de evaporacion en Guaymas')\r\n",
        "plt.yscale('log')\r\n",
        "plt.xlabel('log(Evaporacion (mm))')\r\n",
        "plt.ylabel('Frecuencia Absoluta')\r\n",
        "plt.grid()\r\n",
        "plt.show()"
      ],
      "execution_count": 15,
      "outputs": [
        {
          "output_type": "display_data",
          "data": {
            "image/png": "[encoded data removed]",
            "text/plain": [
              "<Figure size 432x288 with 1 Axes>"
            ]
          },
          "metadata": {
            "tags": [],
            "needs_background": "light"
          }
        }
      ]
    },
    {
      "cell_type": "code",
      "metadata": {
        "colab": {
          "base_uri": "https://localhost:8080/",
          "height": 295
        },
        "id": "XotWaNeJpVW_",
        "outputId": "bbb82978-d280-4dc8-c39b-365415f5fb5c"
      },
      "source": [
        "#Temperatura Maxima\r\n",
        "sns.histplot(df_ca3['Tmax'],kde=False,color='green', bins=30)\r\n",
        "plt.title('Distribucion de temperatura maxima en Guaymas')\r\n",
        "plt.yscale('log')\r\n",
        "plt.xlabel('log(TMax (C))')\r\n",
        "plt.ylabel('Frecuencia Absoluta')\r\n",
        "plt.grid()\r\n",
        "plt.show()"
      ],
      "execution_count": 18,
      "outputs": [
        {
          "output_type": "display_data",
          "data": {
            "image/png": "[encoded data removed]",
            "text/plain": [
              "<Figure size 432x288 with 1 Axes>"
            ]
          },
          "metadata": {
            "tags": [],
            "needs_background": "light"
          }
        }
      ]
    },
    {
      "cell_type": "code",
      "metadata": {
        "colab": {
          "base_uri": "https://localhost:8080/",
          "height": 295
        },
        "id": "HeJySu8wpg-s",
        "outputId": "cfe52aab-ef05-4c47-b9c3-b915fa8b5e6e"
      },
      "source": [
        "#Temperatura Minima\r\n",
        "sns.histplot(df_ca3['Tmin'],kde=False,color='cyan', bins=30)\r\n",
        "plt.title('Distribucion de temperatura minima en Guaymas')\r\n",
        "plt.yscale('log')\r\n",
        "plt.xlabel('log(TMin (C))')\r\n",
        "plt.ylabel('Frecuencia Absoluta')\r\n",
        "plt.grid()\r\n",
        "plt.show()"
      ],
      "execution_count": 22,
      "outputs": [
        {
          "output_type": "display_data",
          "data": {
            "image/png": "[encoded data removed]",
            "text/plain": [
              "<Figure size 432x288 with 1 Axes>"
            ]
          },
          "metadata": {
            "tags": [],
            "needs_background": "light"
          }
        }
      ]
    }
  ]
}
