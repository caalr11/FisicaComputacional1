{
  "nbformat": 4,
  "nbformat_minor": 0,
  "metadata": {
    "colab": {
      "name": "Actividad3CarlosA.ipynb",
      "provenance": [],
      "authorship_tag": "ABX9TyMfkIYKu/ry15piQ9Vqtcox",
      "include_colab_link": true
    },
    "kernelspec": {
      "name": "python3",
      "display_name": "Python 3"
    }
  },
  "cells": [
    {
      "cell_type": "markdown",
      "metadata": {
        "id": "view-in-github",
        "colab_type": "text"
      },
      "source": [
        "<a href=\"https://colab.research.google.com/github/caalr11/FisicaComputacional1/blob/master/Actividad3CarlosA.ipynb\" target=\"_parent\"><img src=\"https://colab.research.google.com/assets/colab-badge.svg\" alt=\"Open In Colab\"/></a>"
      ]
    },
    {
      "cell_type": "code",
      "metadata": {
        "id": "HjuBu-yHRcwO"
      },
      "source": [
        "import numpy as np\r\n",
        "import pandas as pd\r\n",
        "import matplotlib.pyplot as plt"
      ],
      "execution_count": 74,
      "outputs": []
    },
    {
      "cell_type": "code",
      "metadata": {
        "id": "vNnm5slLRfXf"
      },
      "source": [
        "url =\"https://raw.githubusercontent.com/caalr11/FisicaComputacional1/master/Actividad1/data%20guaymas.txt\"\r\n",
        "col =  ['Fecha', 'Precip', 'Evap', 'Tmax', 'Tmin'] \r\n",
        "df_tarea = pd.read_csv(url, names=col, encoding='cp1251', sep='\\s+', header=None, skiprows=19, skipfooter=1, engine='python')"
      ],
      "execution_count": 75,
      "outputs": []
    },
    {
      "cell_type": "code",
      "metadata": {
        "colab": {
          "base_uri": "https://localhost:8080/",
          "height": 195
        },
        "id": "bfdARVTsRvg-",
        "outputId": "55d594be-c159-4455-8d48-3b6014b61895"
      },
      "source": [
        "df_tarea.head()"
      ],
      "execution_count": 76,
      "outputs": [
        {
          "output_type": "execute_result",
          "data": {
            "text/html": [
              "<div>\n",
              "<style scoped>\n",
              "    .dataframe tbody tr th:only-of-type {\n",
              "        vertical-align: middle;\n",
              "    }\n",
              "\n",
              "    .dataframe tbody tr th {\n",
              "        vertical-align: top;\n",
              "    }\n",
              "\n",
              "    .dataframe thead th {\n",
              "        text-align: right;\n",
              "    }\n",
              "</style>\n",
              "<table border=\"1\" class=\"dataframe\">\n",
              "  <thead>\n",
              "    <tr style=\"text-align: right;\">\n",
              "      <th></th>\n",
              "      <th>Fecha</th>\n",
              "      <th>Precip</th>\n",
              "      <th>Evap</th>\n",
              "      <th>Tmax</th>\n",
              "      <th>Tmin</th>\n",
              "    </tr>\n",
              "  </thead>\n",
              "  <tbody>\n",
              "    <tr>\n",
              "      <th>0</th>\n",
              "      <td>01/02/1967</td>\n",
              "      <td>0</td>\n",
              "      <td>Nulo</td>\n",
              "      <td>20</td>\n",
              "      <td>8</td>\n",
              "    </tr>\n",
              "    <tr>\n",
              "      <th>1</th>\n",
              "      <td>02/02/1967</td>\n",
              "      <td>0</td>\n",
              "      <td>Nulo</td>\n",
              "      <td>21</td>\n",
              "      <td>9</td>\n",
              "    </tr>\n",
              "    <tr>\n",
              "      <th>2</th>\n",
              "      <td>03/02/1967</td>\n",
              "      <td>0</td>\n",
              "      <td>Nulo</td>\n",
              "      <td>26</td>\n",
              "      <td>8</td>\n",
              "    </tr>\n",
              "    <tr>\n",
              "      <th>3</th>\n",
              "      <td>04/02/1967</td>\n",
              "      <td>0</td>\n",
              "      <td>Nulo</td>\n",
              "      <td>25</td>\n",
              "      <td>7</td>\n",
              "    </tr>\n",
              "    <tr>\n",
              "      <th>4</th>\n",
              "      <td>05/02/1967</td>\n",
              "      <td>0</td>\n",
              "      <td>Nulo</td>\n",
              "      <td>23</td>\n",
              "      <td>7</td>\n",
              "    </tr>\n",
              "  </tbody>\n",
              "</table>\n",
              "</div>"
            ],
            "text/plain": [
              "        Fecha Precip  Evap Tmax Tmin\n",
              "0  01/02/1967      0  Nulo   20    8\n",
              "1  02/02/1967      0  Nulo   21    9\n",
              "2  03/02/1967      0  Nulo   26    8\n",
              "3  04/02/1967      0  Nulo   25    7\n",
              "4  05/02/1967      0  Nulo   23    7"
            ]
          },
          "metadata": {
            "tags": []
          },
          "execution_count": 76
        }
      ]
    },
    {
      "cell_type": "code",
      "metadata": {
        "colab": {
          "base_uri": "https://localhost:8080/"
        },
        "id": "8_DDBvr_R6cv",
        "outputId": "320491ca-29a1-4ae5-ec17-fefa66fa2438"
      },
      "source": [
        "print(df_tarea.head(10))\r\n",
        "print(df_tarea.tail(10))"
      ],
      "execution_count": 77,
      "outputs": [
        {
          "output_type": "stream",
          "text": [
            "        Fecha Precip  Evap Tmax Tmin\n",
            "0  01/02/1967      0  Nulo   20    8\n",
            "1  02/02/1967      0  Nulo   21    9\n",
            "2  03/02/1967      0  Nulo   26    8\n",
            "3  04/02/1967      0  Nulo   25    7\n",
            "4  05/02/1967      0  Nulo   23    7\n",
            "5  06/02/1967      0  Nulo   24    5\n",
            "6  07/02/1967      0  Nulo   25    7\n",
            "7  08/02/1967      0  Nulo   27    6\n",
            "8  09/02/1967      0  Nulo   26    5\n",
            "9  10/02/1967      0  Nulo   27    4\n",
            "            Fecha Precip  Evap Tmax Tmin\n",
            "17869  21/09/2016      0  Nulo   33   22\n",
            "17870  22/09/2016      0  Nulo   32   22\n",
            "17871  23/09/2016      0  Nulo   37   23\n",
            "17872  24/09/2016      0  Nulo   37   21\n",
            "17873  25/09/2016      0  Nulo   37   20\n",
            "17874  26/09/2016      0  Nulo   37   20\n",
            "17875  27/09/2016      0  Nulo   37   20\n",
            "17876  28/09/2016      0  Nulo   38   20\n",
            "17877  29/09/2016      0  Nulo   37   24\n",
            "17878  30/09/2016      0  Nulo   37   21\n"
          ],
          "name": "stdout"
        }
      ]
    },
    {
      "cell_type": "code",
      "metadata": {
        "colab": {
          "base_uri": "https://localhost:8080/"
        },
        "id": "v6r9NMvhR_qh",
        "outputId": "7a88ed6e-bad7-411b-cf4b-d3843fb53366"
      },
      "source": [
        "df_tarea.shape"
      ],
      "execution_count": 78,
      "outputs": [
        {
          "output_type": "execute_result",
          "data": {
            "text/plain": [
              "(17879, 5)"
            ]
          },
          "metadata": {
            "tags": []
          },
          "execution_count": 78
        }
      ]
    },
    {
      "cell_type": "code",
      "metadata": {
        "colab": {
          "base_uri": "https://localhost:8080/"
        },
        "id": "kBiA2ZvhSC3s",
        "outputId": "62a0da95-b6e6-48ea-edf8-a953039511f4"
      },
      "source": [
        "df_tarea.info()"
      ],
      "execution_count": 79,
      "outputs": [
        {
          "output_type": "stream",
          "text": [
            "<class 'pandas.core.frame.DataFrame'>\n",
            "RangeIndex: 17879 entries, 0 to 17878\n",
            "Data columns (total 5 columns):\n",
            " #   Column  Non-Null Count  Dtype \n",
            "---  ------  --------------  ----- \n",
            " 0   Fecha   17879 non-null  object\n",
            " 1   Precip  17879 non-null  object\n",
            " 2   Evap    17879 non-null  object\n",
            " 3   Tmax    17879 non-null  object\n",
            " 4   Tmin    17879 non-null  object\n",
            "dtypes: object(5)\n",
            "memory usage: 698.5+ KB\n"
          ],
          "name": "stdout"
        }
      ]
    },
    {
      "cell_type": "code",
      "metadata": {
        "colab": {
          "base_uri": "https://localhost:8080/",
          "height": 195
        },
        "id": "mGgWi9-mSFga",
        "outputId": "a44ef1b0-5b34-485a-b6a4-668dadc26a4a"
      },
      "source": [
        "df_ca0 = df_tarea.copy()\r\n",
        "df_ca0.tail()\r\n"
      ],
      "execution_count": 80,
      "outputs": [
        {
          "output_type": "execute_result",
          "data": {
            "text/html": [
              "<div>\n",
              "<style scoped>\n",
              "    .dataframe tbody tr th:only-of-type {\n",
              "        vertical-align: middle;\n",
              "    }\n",
              "\n",
              "    .dataframe tbody tr th {\n",
              "        vertical-align: top;\n",
              "    }\n",
              "\n",
              "    .dataframe thead th {\n",
              "        text-align: right;\n",
              "    }\n",
              "</style>\n",
              "<table border=\"1\" class=\"dataframe\">\n",
              "  <thead>\n",
              "    <tr style=\"text-align: right;\">\n",
              "      <th></th>\n",
              "      <th>Fecha</th>\n",
              "      <th>Precip</th>\n",
              "      <th>Evap</th>\n",
              "      <th>Tmax</th>\n",
              "      <th>Tmin</th>\n",
              "    </tr>\n",
              "  </thead>\n",
              "  <tbody>\n",
              "    <tr>\n",
              "      <th>17874</th>\n",
              "      <td>26/09/2016</td>\n",
              "      <td>0</td>\n",
              "      <td>Nulo</td>\n",
              "      <td>37</td>\n",
              "      <td>20</td>\n",
              "    </tr>\n",
              "    <tr>\n",
              "      <th>17875</th>\n",
              "      <td>27/09/2016</td>\n",
              "      <td>0</td>\n",
              "      <td>Nulo</td>\n",
              "      <td>37</td>\n",
              "      <td>20</td>\n",
              "    </tr>\n",
              "    <tr>\n",
              "      <th>17876</th>\n",
              "      <td>28/09/2016</td>\n",
              "      <td>0</td>\n",
              "      <td>Nulo</td>\n",
              "      <td>38</td>\n",
              "      <td>20</td>\n",
              "    </tr>\n",
              "    <tr>\n",
              "      <th>17877</th>\n",
              "      <td>29/09/2016</td>\n",
              "      <td>0</td>\n",
              "      <td>Nulo</td>\n",
              "      <td>37</td>\n",
              "      <td>24</td>\n",
              "    </tr>\n",
              "    <tr>\n",
              "      <th>17878</th>\n",
              "      <td>30/09/2016</td>\n",
              "      <td>0</td>\n",
              "      <td>Nulo</td>\n",
              "      <td>37</td>\n",
              "      <td>21</td>\n",
              "    </tr>\n",
              "  </tbody>\n",
              "</table>\n",
              "</div>"
            ],
            "text/plain": [
              "            Fecha Precip  Evap Tmax Tmin\n",
              "17874  26/09/2016      0  Nulo   37   20\n",
              "17875  27/09/2016      0  Nulo   37   20\n",
              "17876  28/09/2016      0  Nulo   38   20\n",
              "17877  29/09/2016      0  Nulo   37   24\n",
              "17878  30/09/2016      0  Nulo   37   21"
            ]
          },
          "metadata": {
            "tags": []
          },
          "execution_count": 80
        }
      ]
    },
    {
      "cell_type": "code",
      "metadata": {
        "colab": {
          "base_uri": "https://localhost:8080/",
          "height": 195
        },
        "id": "AQkp7fuCSMbc",
        "outputId": "7897eae8-3e3c-4423-80d5-96f31cf74fe2"
      },
      "source": [
        "str_Nulo = 'Nulo'\r\n",
        "df_ca1 = df_ca0.replace(to_replace=str_Nulo, value='', regex=True)\r\n",
        "df_ca1.tail()"
      ],
      "execution_count": 81,
      "outputs": [
        {
          "output_type": "execute_result",
          "data": {
            "text/html": [
              "<div>\n",
              "<style scoped>\n",
              "    .dataframe tbody tr th:only-of-type {\n",
              "        vertical-align: middle;\n",
              "    }\n",
              "\n",
              "    .dataframe tbody tr th {\n",
              "        vertical-align: top;\n",
              "    }\n",
              "\n",
              "    .dataframe thead th {\n",
              "        text-align: right;\n",
              "    }\n",
              "</style>\n",
              "<table border=\"1\" class=\"dataframe\">\n",
              "  <thead>\n",
              "    <tr style=\"text-align: right;\">\n",
              "      <th></th>\n",
              "      <th>Fecha</th>\n",
              "      <th>Precip</th>\n",
              "      <th>Evap</th>\n",
              "      <th>Tmax</th>\n",
              "      <th>Tmin</th>\n",
              "    </tr>\n",
              "  </thead>\n",
              "  <tbody>\n",
              "    <tr>\n",
              "      <th>17874</th>\n",
              "      <td>26/09/2016</td>\n",
              "      <td>0</td>\n",
              "      <td></td>\n",
              "      <td>37</td>\n",
              "      <td>20</td>\n",
              "    </tr>\n",
              "    <tr>\n",
              "      <th>17875</th>\n",
              "      <td>27/09/2016</td>\n",
              "      <td>0</td>\n",
              "      <td></td>\n",
              "      <td>37</td>\n",
              "      <td>20</td>\n",
              "    </tr>\n",
              "    <tr>\n",
              "      <th>17876</th>\n",
              "      <td>28/09/2016</td>\n",
              "      <td>0</td>\n",
              "      <td></td>\n",
              "      <td>38</td>\n",
              "      <td>20</td>\n",
              "    </tr>\n",
              "    <tr>\n",
              "      <th>17877</th>\n",
              "      <td>29/09/2016</td>\n",
              "      <td>0</td>\n",
              "      <td></td>\n",
              "      <td>37</td>\n",
              "      <td>24</td>\n",
              "    </tr>\n",
              "    <tr>\n",
              "      <th>17878</th>\n",
              "      <td>30/09/2016</td>\n",
              "      <td>0</td>\n",
              "      <td></td>\n",
              "      <td>37</td>\n",
              "      <td>21</td>\n",
              "    </tr>\n",
              "  </tbody>\n",
              "</table>\n",
              "</div>"
            ],
            "text/plain": [
              "            Fecha Precip Evap Tmax Tmin\n",
              "17874  26/09/2016      0        37   20\n",
              "17875  27/09/2016      0        37   20\n",
              "17876  28/09/2016      0        38   20\n",
              "17877  29/09/2016      0        37   24\n",
              "17878  30/09/2016      0        37   21"
            ]
          },
          "metadata": {
            "tags": []
          },
          "execution_count": 81
        }
      ]
    },
    {
      "cell_type": "code",
      "metadata": {
        "colab": {
          "base_uri": "https://localhost:8080/"
        },
        "id": "aoi6KRMjSPgw",
        "outputId": "08a5dc7f-22a6-4882-c7f4-10124f7813f3"
      },
      "source": [
        "df_ca1.info()\r\n",
        "print(df_ca1.tail())"
      ],
      "execution_count": 82,
      "outputs": [
        {
          "output_type": "stream",
          "text": [
            "<class 'pandas.core.frame.DataFrame'>\n",
            "RangeIndex: 17879 entries, 0 to 17878\n",
            "Data columns (total 5 columns):\n",
            " #   Column  Non-Null Count  Dtype \n",
            "---  ------  --------------  ----- \n",
            " 0   Fecha   17879 non-null  object\n",
            " 1   Precip  17879 non-null  object\n",
            " 2   Evap    17879 non-null  object\n",
            " 3   Tmax    17879 non-null  object\n",
            " 4   Tmin    17879 non-null  object\n",
            "dtypes: object(5)\n",
            "memory usage: 698.5+ KB\n",
            "            Fecha Precip Evap Tmax Tmin\n",
            "17874  26/09/2016      0        37   20\n",
            "17875  27/09/2016      0        37   20\n",
            "17876  28/09/2016      0        38   20\n",
            "17877  29/09/2016      0        37   24\n",
            "17878  30/09/2016      0        37   21\n"
          ],
          "name": "stdout"
        }
      ]
    },
    {
      "cell_type": "code",
      "metadata": {
        "colab": {
          "base_uri": "https://localhost:8080/"
        },
        "id": "gjjWrTIUSR9G",
        "outputId": "67cf3950-f962-412d-b4c7-95768f7d4b69"
      },
      "source": [
        "cols_list = ['Precip', 'Evap', 'Tmax', 'Tmin']\r\n",
        "for cols in cols_list:\r\n",
        "  df_ca1[cols] = pd.to_numeric(df_ca1[cols], errors='coerce')\r\n",
        "\r\n",
        "df_ca1.info()"
      ],
      "execution_count": 83,
      "outputs": [
        {
          "output_type": "stream",
          "text": [
            "<class 'pandas.core.frame.DataFrame'>\n",
            "RangeIndex: 17879 entries, 0 to 17878\n",
            "Data columns (total 5 columns):\n",
            " #   Column  Non-Null Count  Dtype  \n",
            "---  ------  --------------  -----  \n",
            " 0   Fecha   17879 non-null  object \n",
            " 1   Precip  17847 non-null  float64\n",
            " 2   Evap    5731 non-null   float64\n",
            " 3   Tmax    17823 non-null  float64\n",
            " 4   Tmin    17828 non-null  float64\n",
            "dtypes: float64(4), object(1)\n",
            "memory usage: 698.5+ KB\n"
          ],
          "name": "stdout"
        }
      ]
    },
    {
      "cell_type": "code",
      "metadata": {
        "colab": {
          "base_uri": "https://localhost:8080/"
        },
        "id": "Iqh_VTa2SVo1",
        "outputId": "8f4fadb0-4f9b-4051-b0c9-b4134418a651"
      },
      "source": [
        "df_ca1.isnull().sum()"
      ],
      "execution_count": 84,
      "outputs": [
        {
          "output_type": "execute_result",
          "data": {
            "text/plain": [
              "Fecha         0\n",
              "Precip       32\n",
              "Evap      12148\n",
              "Tmax         56\n",
              "Tmin         51\n",
              "dtype: int64"
            ]
          },
          "metadata": {
            "tags": []
          },
          "execution_count": 84
        }
      ]
    },
    {
      "cell_type": "code",
      "metadata": {
        "colab": {
          "base_uri": "https://localhost:8080/"
        },
        "id": "-RmXOnSQSYv2",
        "outputId": "551229dd-2cc7-4a6e-f141-86bb71c0a40b"
      },
      "source": [
        "print(df_ca1.head())\r\n",
        "print(df_ca1.tail())"
      ],
      "execution_count": 85,
      "outputs": [
        {
          "output_type": "stream",
          "text": [
            "        Fecha  Precip  Evap  Tmax  Tmin\n",
            "0  01/02/1967     0.0   NaN  20.0   8.0\n",
            "1  02/02/1967     0.0   NaN  21.0   9.0\n",
            "2  03/02/1967     0.0   NaN  26.0   8.0\n",
            "3  04/02/1967     0.0   NaN  25.0   7.0\n",
            "4  05/02/1967     0.0   NaN  23.0   7.0\n",
            "            Fecha  Precip  Evap  Tmax  Tmin\n",
            "17874  26/09/2016     0.0   NaN  37.0  20.0\n",
            "17875  27/09/2016     0.0   NaN  37.0  20.0\n",
            "17876  28/09/2016     0.0   NaN  38.0  20.0\n",
            "17877  29/09/2016     0.0   NaN  37.0  24.0\n",
            "17878  30/09/2016     0.0   NaN  37.0  21.0\n"
          ],
          "name": "stdout"
        }
      ]
    },
    {
      "cell_type": "code",
      "metadata": {
        "colab": {
          "base_uri": "https://localhost:8080/",
          "height": 284
        },
        "id": "aZg99I9DSb5o",
        "outputId": "c83ca6c2-a76e-4049-da72-bb12cf7fb0ef"
      },
      "source": [
        "df_ca1.describe().round(2)"
      ],
      "execution_count": 86,
      "outputs": [
        {
          "output_type": "execute_result",
          "data": {
            "text/html": [
              "<div>\n",
              "<style scoped>\n",
              "    .dataframe tbody tr th:only-of-type {\n",
              "        vertical-align: middle;\n",
              "    }\n",
              "\n",
              "    .dataframe tbody tr th {\n",
              "        vertical-align: top;\n",
              "    }\n",
              "\n",
              "    .dataframe thead th {\n",
              "        text-align: right;\n",
              "    }\n",
              "</style>\n",
              "<table border=\"1\" class=\"dataframe\">\n",
              "  <thead>\n",
              "    <tr style=\"text-align: right;\">\n",
              "      <th></th>\n",
              "      <th>Precip</th>\n",
              "      <th>Evap</th>\n",
              "      <th>Tmax</th>\n",
              "      <th>Tmin</th>\n",
              "    </tr>\n",
              "  </thead>\n",
              "  <tbody>\n",
              "    <tr>\n",
              "      <th>count</th>\n",
              "      <td>17847.00</td>\n",
              "      <td>5731.00</td>\n",
              "      <td>17823.00</td>\n",
              "      <td>17828.00</td>\n",
              "    </tr>\n",
              "    <tr>\n",
              "      <th>mean</th>\n",
              "      <td>0.75</td>\n",
              "      <td>5.98</td>\n",
              "      <td>32.62</td>\n",
              "      <td>15.33</td>\n",
              "    </tr>\n",
              "    <tr>\n",
              "      <th>std</th>\n",
              "      <td>5.07</td>\n",
              "      <td>2.60</td>\n",
              "      <td>5.63</td>\n",
              "      <td>6.71</td>\n",
              "    </tr>\n",
              "    <tr>\n",
              "      <th>min</th>\n",
              "      <td>0.00</td>\n",
              "      <td>0.10</td>\n",
              "      <td>10.00</td>\n",
              "      <td>-2.00</td>\n",
              "    </tr>\n",
              "    <tr>\n",
              "      <th>25%</th>\n",
              "      <td>0.00</td>\n",
              "      <td>4.00</td>\n",
              "      <td>28.00</td>\n",
              "      <td>10.00</td>\n",
              "    </tr>\n",
              "    <tr>\n",
              "      <th>50%</th>\n",
              "      <td>0.00</td>\n",
              "      <td>5.80</td>\n",
              "      <td>33.00</td>\n",
              "      <td>14.00</td>\n",
              "    </tr>\n",
              "    <tr>\n",
              "      <th>75%</th>\n",
              "      <td>0.00</td>\n",
              "      <td>7.80</td>\n",
              "      <td>37.00</td>\n",
              "      <td>22.00</td>\n",
              "    </tr>\n",
              "    <tr>\n",
              "      <th>max</th>\n",
              "      <td>184.10</td>\n",
              "      <td>16.40</td>\n",
              "      <td>48.50</td>\n",
              "      <td>32.00</td>\n",
              "    </tr>\n",
              "  </tbody>\n",
              "</table>\n",
              "</div>"
            ],
            "text/plain": [
              "         Precip     Evap      Tmax      Tmin\n",
              "count  17847.00  5731.00  17823.00  17828.00\n",
              "mean       0.75     5.98     32.62     15.33\n",
              "std        5.07     2.60      5.63      6.71\n",
              "min        0.00     0.10     10.00     -2.00\n",
              "25%        0.00     4.00     28.00     10.00\n",
              "50%        0.00     5.80     33.00     14.00\n",
              "75%        0.00     7.80     37.00     22.00\n",
              "max      184.10    16.40     48.50     32.00"
            ]
          },
          "metadata": {
            "tags": []
          },
          "execution_count": 86
        }
      ]
    },
    {
      "cell_type": "code",
      "metadata": {
        "colab": {
          "base_uri": "https://localhost:8080/"
        },
        "id": "nTMd2l6DSeSp",
        "outputId": "5f8c57e2-9124-46db-c318-a557028da307"
      },
      "source": [
        "df_ca2 = df_ca1.copy()\r\n",
        "\r\n",
        "df_ca2['Fecha'].head()"
      ],
      "execution_count": 87,
      "outputs": [
        {
          "output_type": "execute_result",
          "data": {
            "text/plain": [
              "0    01/02/1967\n",
              "1    02/02/1967\n",
              "2    03/02/1967\n",
              "3    04/02/1967\n",
              "4    05/02/1967\n",
              "Name: Fecha, dtype: object"
            ]
          },
          "metadata": {
            "tags": []
          },
          "execution_count": 87
        }
      ]
    },
    {
      "cell_type": "code",
      "metadata": {
        "colab": {
          "base_uri": "https://localhost:8080/"
        },
        "id": "LqnOj1XeSrJN",
        "outputId": "c8fb8015-f919-4466-c29e-3a79eefcc87e"
      },
      "source": [
        "df_ca2['Fecha'] = pd.to_datetime(df_ca2['Fecha'], dayfirst=True).copy()\r\n",
        "print(df_ca2.head())"
      ],
      "execution_count": 88,
      "outputs": [
        {
          "output_type": "stream",
          "text": [
            "       Fecha  Precip  Evap  Tmax  Tmin\n",
            "0 1967-02-01     0.0   NaN  20.0   8.0\n",
            "1 1967-02-02     0.0   NaN  21.0   9.0\n",
            "2 1967-02-03     0.0   NaN  26.0   8.0\n",
            "3 1967-02-04     0.0   NaN  25.0   7.0\n",
            "4 1967-02-05     0.0   NaN  23.0   7.0\n"
          ],
          "name": "stdout"
        }
      ]
    },
    {
      "cell_type": "code",
      "metadata": {
        "colab": {
          "base_uri": "https://localhost:8080/"
        },
        "id": "S6szvS7YStsk",
        "outputId": "d8a10133-35f1-4023-cd1d-aa7de9e5d286"
      },
      "source": [
        "df_ca2.dtypes"
      ],
      "execution_count": 89,
      "outputs": [
        {
          "output_type": "execute_result",
          "data": {
            "text/plain": [
              "Fecha     datetime64[ns]\n",
              "Precip           float64\n",
              "Evap             float64\n",
              "Tmax             float64\n",
              "Tmin             float64\n",
              "dtype: object"
            ]
          },
          "metadata": {
            "tags": []
          },
          "execution_count": 89
        }
      ]
    },
    {
      "cell_type": "code",
      "metadata": {
        "id": "p2xu4fGfSwJ0"
      },
      "source": [
        "df_ca2['Año'] = df_ca2['Fecha'].dt.year\r\n",
        "df_ca2['Mes'] = df_ca2['Fecha'].dt.month"
      ],
      "execution_count": 90,
      "outputs": []
    },
    {
      "cell_type": "code",
      "metadata": {
        "colab": {
          "base_uri": "https://localhost:8080/"
        },
        "id": "Htd1wmjjS8r0",
        "outputId": "16e3a304-23f1-4242-82e0-12c64440223d"
      },
      "source": [
        "print(df_ca2.head())\r\n",
        "print(df_ca2.tail())"
      ],
      "execution_count": 91,
      "outputs": [
        {
          "output_type": "stream",
          "text": [
            "       Fecha  Precip  Evap  Tmax  Tmin   Año  Mes\n",
            "0 1967-02-01     0.0   NaN  20.0   8.0  1967    2\n",
            "1 1967-02-02     0.0   NaN  21.0   9.0  1967    2\n",
            "2 1967-02-03     0.0   NaN  26.0   8.0  1967    2\n",
            "3 1967-02-04     0.0   NaN  25.0   7.0  1967    2\n",
            "4 1967-02-05     0.0   NaN  23.0   7.0  1967    2\n",
            "           Fecha  Precip  Evap  Tmax  Tmin   Año  Mes\n",
            "17874 2016-09-26     0.0   NaN  37.0  20.0  2016    9\n",
            "17875 2016-09-27     0.0   NaN  37.0  20.0  2016    9\n",
            "17876 2016-09-28     0.0   NaN  38.0  20.0  2016    9\n",
            "17877 2016-09-29     0.0   NaN  37.0  24.0  2016    9\n",
            "17878 2016-09-30     0.0   NaN  37.0  21.0  2016    9\n"
          ],
          "name": "stdout"
        }
      ]
    },
    {
      "cell_type": "code",
      "metadata": {
        "colab": {
          "base_uri": "https://localhost:8080/"
        },
        "id": "IOIgwlnPS-qd",
        "outputId": "2944cc77-7e1d-461f-cbdf-973047c6df07"
      },
      "source": [
        "df_ca2.info()"
      ],
      "execution_count": 92,
      "outputs": [
        {
          "output_type": "stream",
          "text": [
            "<class 'pandas.core.frame.DataFrame'>\n",
            "RangeIndex: 17879 entries, 0 to 17878\n",
            "Data columns (total 7 columns):\n",
            " #   Column  Non-Null Count  Dtype         \n",
            "---  ------  --------------  -----         \n",
            " 0   Fecha   17879 non-null  datetime64[ns]\n",
            " 1   Precip  17847 non-null  float64       \n",
            " 2   Evap    5731 non-null   float64       \n",
            " 3   Tmax    17823 non-null  float64       \n",
            " 4   Tmin    17828 non-null  float64       \n",
            " 5   Año     17879 non-null  int64         \n",
            " 6   Mes     17879 non-null  int64         \n",
            "dtypes: datetime64[ns](1), float64(4), int64(2)\n",
            "memory usage: 977.9 KB\n"
          ],
          "name": "stdout"
        }
      ]
    }
  ]
}