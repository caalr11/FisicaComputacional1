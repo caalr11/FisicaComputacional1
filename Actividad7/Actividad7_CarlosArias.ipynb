{
  "nbformat": 4,
  "nbformat_minor": 0,
  "metadata": {
    "colab": {
      "name": "Actividad7_CarlosArias.ipynb",
      "provenance": [],
      "authorship_tag": "ABX9TyMStcaM28hWLjisnVmAjGEB",
      "include_colab_link": true
    },
    "kernelspec": {
      "name": "python3",
      "display_name": "Python 3"
    }
  },
  "cells": [
    {
      "cell_type": "markdown",
      "metadata": {
        "id": "view-in-github",
        "colab_type": "text"
      },
      "source": [
        "<a href=\"https://colab.research.google.com/github/caalr11/FisicaComputacional1/blob/master/Actividad7/Actividad7_CarlosArias.ipynb\" target=\"_parent\"><img src=\"https://colab.research.google.com/assets/colab-badge.svg\" alt=\"Open In Colab\"/></a>"
      ]
    },
    {
      "cell_type": "markdown",
      "metadata": {
        "id": "6CzBXsptah68"
      },
      "source": [
        "ACTIVIDAD 7\r\n"
      ]
    },
    {
      "cell_type": "code",
      "metadata": {
        "id": "0-KTxF3raklW"
      },
      "source": [
        "import numpy as np\r\n",
        "import scipy.linalg as la\r\n",
        "from numpy.linalg import matrix_power as mpow\r\n",
        "\r\n",
        "import matplotlib.pyplot as plt\r\n",
        "%matplotlib inline"
      ],
      "execution_count": 24,
      "outputs": []
    },
    {
      "cell_type": "markdown",
      "metadata": {
        "id": "EchNEnjQaqhi"
      },
      "source": [
        "Actividad 1\r\n",
        "Defina las siguientes matrices.\r\n",
        "\r\n",
        "$$\\begin{equation*}\r\n",
        " A\r\n",
        " =\r\n",
        "  \\begin{bmatrix}\r\n",
        "   1 ; 3 \\\\\r\n",
        "   -1 ; 7\r\n",
        "   \\end{bmatrix}\r\n",
        "\\end{equation*}$$$$\\begin{equation*}\r\n",
        " B =\r\n",
        "  \\begin{bmatrix}\r\n",
        "   5 ; 2 \\\\\r\n",
        "   1 ; 2\r\n",
        "   \\end{bmatrix}\r\n",
        "\\end{equation*}$$\r\n",
        "y la matrix identidad\r\n",
        "\r\n",
        "$$\\begin{equation*}\r\n",
        " I = \r\n",
        "   \\begin{bmatrix}\r\n",
        "   1 ; 0 \\\\\r\n",
        "   0 ; 1\r\n",
        "   \\end{bmatrix}\r\n",
        "\\end{equation*}$$\r\n",
        "\r\n",
        "Calcule el resultado de $2*I+3*A+A@B$."
      ]
    },
    {
      "cell_type": "code",
      "metadata": {
        "colab": {
          "base_uri": "https://localhost:8080/"
        },
        "id": "V6JWQqGlar_C",
        "outputId": "55c38c94-90e0-405c-fc73-d7d98119d2c6"
      },
      "source": [
        "A=np.array([[1,3],[-1,7]])\r\n",
        "B=np.array([[5,2],[1,2]])\r\n",
        "I=np.array([[1,0],[0,1]])\r\n",
        "#print(A)\r\n",
        "#print(B)\r\n",
        "#print(I)\r\n",
        "R1=2*I+3*A+A@B\r\n",
        "print(R1)"
      ],
      "execution_count": 25,
      "outputs": [
        {
          "output_type": "stream",
          "text": [
            "[[13 17]\n",
            " [-1 35]]\n"
          ],
          "name": "stdout"
        }
      ]
    },
    {
      "cell_type": "markdown",
      "metadata": {
        "id": "c8MYZjW9bHrN"
      },
      "source": [
        "ACTIVIDAD 2\r\n",
        "Los polinomios característicos y el Teorema de Cayley-Hamilton.\r\n",
        "\r\n",
        "El polinomio característico de una matriz M esta dado en general por la ecuación$$\r\n",
        "\\det(M - \\lambda I) = 0\r\n",
        "$$Para una matriz cuadrada M (2x2), el polinomio característico se puede escribir como$$\r\n",
        "P_2 (\\lambda) = \\det{(M)} - \\mathrm{tr}(M) \\, \\lambda + \\lambda^2   \r\n",
        "$$y para una matriz cuadrada M (3x3), el polinomio característico resulta ser\r\n",
        "\r\n",
        "$$\r\n",
        "P_3 (\\lambda) = \\frac{1}{6} \r\n",
        "[ \\mathrm{tr}^3 (M) + 2 \\, \\mathrm{tr }(M^3) - 3 \\, \\mathrm{tr}(M) \\mathrm{tr}(M^2) ] - \r\n",
        "\\frac{1}{2} [ \\mathrm{tr}^2 (M) - \\mathrm{tr}(M^2) ] \\lambda + \\mathrm{tr}(M) \\lambda^2 - \\lambda^3\r\n",
        "$$\r\n",
        "El Teorema de Cayley-Hamilton nos dice que una matriz cuadrada M (2x2), satisface el polinomio característico$$\r\n",
        "P_2(M) = \\det(M) - \\mathrm{tr}(M) M + M^2 \r\n",
        "$$y en general cualquier matriz cuadrada M (nxn), satisface $P_n(M)$.\r\n",
        "\r\n",
        "Demuestre esto para cualquier matriz M (2x2), ($\\det(M) \\neq 0$)."
      ]
    },
    {
      "cell_type": "code",
      "metadata": {
        "id": "7-Xn8nAHgRhh"
      },
      "source": [
        "def P2( M ):\r\n",
        "  P2 = la.det( M )*np.eye(2, dtype=int) - np.trace( M )*M + mpow( M, 2 )\r\n",
        "  print( P2, \" = P2(M1) \" )"
      ],
      "execution_count": 31,
      "outputs": []
    },
    {
      "cell_type": "code",
      "metadata": {
        "colab": {
          "base_uri": "https://localhost:8080/"
        },
        "id": "4RYrVaYNbe9q",
        "outputId": "f626ec9d-19c6-42dc-b129-5754ba316a6e"
      },
      "source": [
        "print ( \"Inserte los valores de la matriz en orden de filas.\" )\r\n",
        "a = float( input( \"valor de a?: \" ) )\r\n",
        "b = float( input( \"valor de b?: \" ) )\r\n",
        "c = float( input( \"valor de c?: \" ) )\r\n",
        "d = float( input( \"valor de d?: \" ) )\r\n",
        "M1 = np.array( [[a,b],[c,d]] )\r\n",
        "print( M1)\r\n"
      ],
      "execution_count": 32,
      "outputs": [
        {
          "output_type": "stream",
          "text": [
            "Inserte los valores de la matriz en orden de filas.\n",
            "valor de a?: 2\n",
            "valor de b?: 3\n",
            "valor de c?: 4\n",
            "valor de d?: 5\n",
            "[[2. 3.]\n",
            " [4. 5.]]\n"
          ],
          "name": "stdout"
        }
      ]
    },
    {
      "cell_type": "code",
      "metadata": {
        "colab": {
          "base_uri": "https://localhost:8080/"
        },
        "id": "duuEXTA5dtWo",
        "outputId": "6900b708-2de4-4fdd-f023-54950735c547"
      },
      "source": [
        "detM1 = la.det( M1 )\r\n",
        "if detM1 == 0 :\r\n",
        "  print ( \"El determinante de la matriz es 0, no se puede calcular el polinomico caracteristico.\" )\r\n",
        "else:\r\n",
        "  print( \"det( M1 )= \", detM1 )\r\n",
        "  print( \" \" )\r\n",
        "  P2M1 = P2( M1 )"
      ],
      "execution_count": 33,
      "outputs": [
        {
          "output_type": "stream",
          "text": [
            "det( M1 )=  -2.000000000000001\n",
            " \n",
            "[[0. 0.]\n",
            " [0. 0.]]  = P2(M1) \n"
          ],
          "name": "stdout"
        }
      ]
    },
    {
      "cell_type": "markdown",
      "metadata": {
        "id": "HlyR6RDmhXn1"
      },
      "source": [
        "ACTIVIDAD 3\r\n",
        "Resuelva el sistema de ecuaciones.\r\n",
        "\r\n",
        "$$\\begin{eqnarray*}\r\n",
        "x - 3 y + z &amp; = &amp; 1 \\\\ \\nonumber\r\n",
        "3 x - 4y + z &amp; = &amp; 5 \\\\ \\nonumber\r\n",
        "2 y - z &amp; = &amp; 0 \\\\ \\nonumber\r\n",
        "\\end{eqnarray*}$$\r\n",
        "utilizando el Método de Eliminación Gaussiana y la función scipy.linalg.solve("
      ]
    },
    {
      "cell_type": "code",
      "metadata": {
        "id": "73DAR06BoH7b"
      },
      "source": [
        "def INTER( M, i, j ):\r\n",
        "    print( \"Intercambio de renglones i y j en la matriz\" )\r\n",
        "    n = M.shape[0]\r\n",
        "    E = np.eye(n)\r\n",
        "    E[ i, i ] = 0\r\n",
        "    E[ j, j ] = 0\r\n",
        "    E[ i, j ] = 1\r\n",
        "    E[ j, i ] = 1\r\n",
        "    return E @ M"
      ],
      "execution_count": 34,
      "outputs": []
    },
    {
      "cell_type": "code",
      "metadata": {
        "id": "cvVcfM0drzrV"
      },
      "source": [
        "def MULTI( M, k, i ):\r\n",
        "    print( \"Multiplicacion de i x k en la matriz.\" )\r\n",
        "    n = M.shape[0]\r\n",
        "    E = np.eye(n)\r\n",
        "    E[ i, i ] = k\r\n",
        "    return E @ M"
      ],
      "execution_count": 35,
      "outputs": []
    },
    {
      "cell_type": "code",
      "metadata": {
        "id": "97iXlHLMr1t0"
      },
      "source": [
        "def SUMAR( M, k, i, j ):\r\n",
        "    print( \"Sumar k veces el renglón j al renglón i en la matriz M\" )\r\n",
        "    n = M.shape[0]\r\n",
        "    E = np.eye(n)\r\n",
        "    if i == j:\r\n",
        "        E[ i, i ] = k + 1\r\n",
        "    else:\r\n",
        "        E[ i, j ] = k\r\n",
        "    return E @ M"
      ],
      "execution_count": 36,
      "outputs": []
    },
    {
      "cell_type": "code",
      "metadata": {
        "colab": {
          "base_uri": "https://localhost:8080/"
        },
        "id": "uPYrT_HNr37J",
        "outputId": "361b53a8-7276-4f7c-d03f-68ff068d6c54"
      },
      "source": [
        "M = np.array( [ [ 1., -3., 1. ], [ 3., -4., 1. ], [ 0., 2., -1. ] ] )\r\n",
        "print( M, \" = matriz\" )\r\n",
        "print( \"det(M) = \", la.det(M) )\r\n",
        "MI = np.hstack( [ M, np.eye( 3 ) ] )\r\n",
        "print( MI, \" = MI\" )"
      ],
      "execution_count": 37,
      "outputs": [
        {
          "output_type": "stream",
          "text": [
            "[[ 1. -3.  1.]\n",
            " [ 3. -4.  1.]\n",
            " [ 0.  2. -1.]]  = matriz\n",
            "det(M) =  -1.0000000000000004\n",
            "[[ 1. -3.  1.  1.  0.  0.]\n",
            " [ 3. -4.  1.  0.  1.  0.]\n",
            " [ 0.  2. -1.  0.  0.  1.]]  = MI\n"
          ],
          "name": "stdout"
        }
      ]
    },
    {
      "cell_type": "code",
      "metadata": {
        "colab": {
          "base_uri": "https://localhost:8080/"
        },
        "id": "gPzjU0TSr6FP",
        "outputId": "7fc6d0c8-79d7-4c04-fcad-c6875e469357"
      },
      "source": [
        "MI1 = SUMAR( MI, -3, 1, 0 )\r\n",
        "print( MI1) "
      ],
      "execution_count": 39,
      "outputs": [
        {
          "output_type": "stream",
          "text": [
            "Sumar k veces el renglón j al renglón i en la matriz M\n",
            "[[ 1. -3.  1.  1.  0.  0.]\n",
            " [ 0.  5. -2. -3.  1.  0.]\n",
            " [ 0.  2. -1.  0.  0.  1.]]\n"
          ],
          "name": "stdout"
        }
      ]
    },
    {
      "cell_type": "code",
      "metadata": {
        "colab": {
          "base_uri": "https://localhost:8080/"
        },
        "id": "aC5BsVvEr7-8",
        "outputId": "a1caf97d-0ddd-4847-b6d2-4cf5b1da1a7e"
      },
      "source": [
        "MI2 = SUMAR( MI1, -2/5, 2, 1 )\r\n",
        "print( MI2 )\r\n",
        "MI2int = MULTI ( MI2, -5, 2 )\r\n",
        "print( MI2int )\r\n",
        "MI2int2 = MULTI ( MI2int, -5, 0 )\r\n",
        "print( MI2int2 )\r\n",
        "MI3 = SUMAR( MI2int2, -3, 0, 1 )\r\n",
        "print( MI3 )"
      ],
      "execution_count": 40,
      "outputs": [
        {
          "output_type": "stream",
          "text": [
            "Sumar k veces el renglón j al renglón i en la matriz M\n",
            "[[ 1.  -3.   1.   1.   0.   0. ]\n",
            " [ 0.   5.  -2.  -3.   1.   0. ]\n",
            " [ 0.   0.  -0.2  1.2 -0.4  1. ]]\n",
            "Multiplicacion de i x k en la matriz.\n",
            "[[ 1. -3.  1.  1.  0.  0.]\n",
            " [ 0.  5. -2. -3.  1.  0.]\n",
            " [ 0.  0.  1. -6.  2. -5.]]\n",
            "Multiplicacion de i x k en la matriz.\n",
            "[[-5. 15. -5. -5.  0.  0.]\n",
            " [ 0.  5. -2. -3.  1.  0.]\n",
            " [ 0.  0.  1. -6.  2. -5.]]\n",
            "Sumar k veces el renglón j al renglón i en la matriz M\n",
            "[[-5.  0.  1.  4. -3.  0.]\n",
            " [ 0.  5. -2. -3.  1.  0.]\n",
            " [ 0.  0.  1. -6.  2. -5.]]\n"
          ],
          "name": "stdout"
        }
      ]
    },
    {
      "cell_type": "code",
      "metadata": {
        "colab": {
          "base_uri": "https://localhost:8080/"
        },
        "id": "ohsOdovGsAyf",
        "outputId": "4f314d85-62c3-4ba8-b7c4-71a17537d986"
      },
      "source": [
        "MI3int = MULTI ( MI3, 2, 2 )\r\n",
        "print( MI3int )\r\n",
        "MI4 = SUMAR( MI3int, 1, 1, 2 )\r\n",
        "print( MI4 )\r\n",
        "MI4int = MULTI ( MI4, 1/2, 2 )\r\n",
        "print( MI4int )\r\n",
        "MI5 = SUMAR( MI4int, -1, 0, 2 )\r\n",
        "print( MI5 )\r\n",
        "MI6 = MULTI ( MI5, -1/5, 0 )\r\n",
        "print( MI6 )\r\n",
        "MI7 = MULTI ( MI6, 1/5, 1 )\r\n",
        "print( MI7 )"
      ],
      "execution_count": 41,
      "outputs": [
        {
          "output_type": "stream",
          "text": [
            "Multiplicacion de i x k en la matriz.\n",
            "[[ -5.   0.   1.   4.  -3.   0.]\n",
            " [  0.   5.  -2.  -3.   1.   0.]\n",
            " [  0.   0.   2. -12.   4. -10.]]\n",
            "Sumar k veces el renglón j al renglón i en la matriz M\n",
            "[[-5.0000000e+00  0.0000000e+00  1.0000000e+00  4.0000000e+00\n",
            "  -3.0000000e+00  0.0000000e+00]\n",
            " [ 0.0000000e+00  5.0000000e+00 -4.4408921e-16 -1.5000000e+01\n",
            "   5.0000000e+00 -1.0000000e+01]\n",
            " [ 0.0000000e+00  0.0000000e+00  2.0000000e+00 -1.2000000e+01\n",
            "   4.0000000e+00 -1.0000000e+01]]\n",
            "Multiplicacion de i x k en la matriz.\n",
            "[[-5.0000000e+00  0.0000000e+00  1.0000000e+00  4.0000000e+00\n",
            "  -3.0000000e+00  0.0000000e+00]\n",
            " [ 0.0000000e+00  5.0000000e+00 -4.4408921e-16 -1.5000000e+01\n",
            "   5.0000000e+00 -1.0000000e+01]\n",
            " [ 0.0000000e+00  0.0000000e+00  1.0000000e+00 -6.0000000e+00\n",
            "   2.0000000e+00 -5.0000000e+00]]\n",
            "Sumar k veces el renglón j al renglón i en la matriz M\n",
            "[[-5.00000000e+00  0.00000000e+00  2.22044605e-16  1.00000000e+01\n",
            "  -5.00000000e+00  5.00000000e+00]\n",
            " [ 0.00000000e+00  5.00000000e+00 -4.44089210e-16 -1.50000000e+01\n",
            "   5.00000000e+00 -1.00000000e+01]\n",
            " [ 0.00000000e+00  0.00000000e+00  1.00000000e+00 -6.00000000e+00\n",
            "   2.00000000e+00 -5.00000000e+00]]\n",
            "Multiplicacion de i x k en la matriz.\n",
            "[[ 1.0000000e+00  0.0000000e+00 -4.4408921e-17 -2.0000000e+00\n",
            "   1.0000000e+00 -1.0000000e+00]\n",
            " [ 0.0000000e+00  5.0000000e+00 -4.4408921e-16 -1.5000000e+01\n",
            "   5.0000000e+00 -1.0000000e+01]\n",
            " [ 0.0000000e+00  0.0000000e+00  1.0000000e+00 -6.0000000e+00\n",
            "   2.0000000e+00 -5.0000000e+00]]\n",
            "Multiplicacion de i x k en la matriz.\n",
            "[[ 1.0000000e+00  0.0000000e+00 -4.4408921e-17 -2.0000000e+00\n",
            "   1.0000000e+00 -1.0000000e+00]\n",
            " [ 0.0000000e+00  1.0000000e+00 -8.8817842e-17 -3.0000000e+00\n",
            "   1.0000000e+00 -2.0000000e+00]\n",
            " [ 0.0000000e+00  0.0000000e+00  1.0000000e+00 -6.0000000e+00\n",
            "   2.0000000e+00 -5.0000000e+00]]\n"
          ],
          "name": "stdout"
        }
      ]
    },
    {
      "cell_type": "code",
      "metadata": {
        "colab": {
          "base_uri": "https://localhost:8080/"
        },
        "id": "is6ykl2_sDMX",
        "outputId": "de7fe188-31ae-4e0c-e387-fae3d4ed9a5e"
      },
      "source": [
        "print( \"La matriz Inversa es\" )\r\n",
        "MInv = MI7[ :, 3:]\r\n",
        "print( MInv, \" = M^(-1)\" )\r\n",
        "print( \"Comprobamos que el producto de M con la Inversa obtenida sea la identidad\" )\r\n",
        "Comp = M @ MInv\r\n",
        "print( Comp )\r\n",
        "print( \"Comprobamos el resultado anterior, para la Inversa con valores enteros\" )\r\n",
        "Inv = np.array( [ [-2, 1, -1 ], [ -3, 1, -2 ], [ -6, 2, -5 ] ] )\r\n",
        "print( Inv, \" = M^(-1)\" )\r\n",
        "pro = M @ Inv\r\n",
        "print( pro, \" = I\" )\r\n",
        "print( \"Comprobamos el resultado con la función \" )\r\n",
        "print( la.inv( M ), \" = M^(-1)\" )"
      ],
      "execution_count": 43,
      "outputs": [
        {
          "output_type": "stream",
          "text": [
            "La matriz Inversa es\n",
            "[[-2.  1. -1.]\n",
            " [-3.  1. -2.]\n",
            " [-6.  2. -5.]]  = M^(-1)\n",
            "Comprobamos que el producto de M con la Inversa obtenida sea la identidad\n",
            "[[1.0000000e+00 0.0000000e+00 0.0000000e+00]\n",
            " [8.8817842e-16 1.0000000e+00 0.0000000e+00]\n",
            " [0.0000000e+00 0.0000000e+00 1.0000000e+00]]\n",
            "Comprobamos el resultado anterior, para la Inversa con valores enteros\n",
            "[[-2  1 -1]\n",
            " [-3  1 -2]\n",
            " [-6  2 -5]]  = M^(-1)\n",
            "[[1. 0. 0.]\n",
            " [0. 1. 0.]\n",
            " [0. 0. 1.]]  = I\n",
            "Comprobamos el resultado con la función \n",
            "[[-2.  1. -1.]\n",
            " [-3.  1. -2.]\n",
            " [-6.  2. -5.]]  = M^(-1)\n"
          ],
          "name": "stdout"
        }
      ]
    },
    {
      "cell_type": "code",
      "metadata": {
        "colab": {
          "base_uri": "https://localhost:8080/"
        },
        "id": "AzFFBOfBsFPN",
        "outputId": "013b2fd4-6a71-477f-de91-047e7ef6f3ed"
      },
      "source": [
        "vec = np.array( [ 1, 5, 0 ] ).reshape( 3, 1 )\r\n",
        "print( vec )"
      ],
      "execution_count": 44,
      "outputs": [
        {
          "output_type": "stream",
          "text": [
            "[[1]\n",
            " [5]\n",
            " [0]]\n"
          ],
          "name": "stdout"
        }
      ]
    },
    {
      "cell_type": "code",
      "metadata": {
        "colab": {
          "base_uri": "https://localhost:8080/"
        },
        "id": "MX8yfQsbsGv3",
        "outputId": "9fbaa094-9d92-4e3a-bacf-ba7e2aefd5b6"
      },
      "source": [
        "res = MInv @ vec\r\n",
        "print( res, \" = b\" )"
      ],
      "execution_count": 45,
      "outputs": [
        {
          "output_type": "stream",
          "text": [
            "[[3.]\n",
            " [2.]\n",
            " [4.]]  = b\n"
          ],
          "name": "stdout"
        }
      ]
    },
    {
      "cell_type": "markdown",
      "metadata": {
        "id": "qWVhLpFotYAK"
      },
      "source": [
        "ACTIVIDAD 4\r\n",
        "\r\n",
        "Dadas las siguientes matrices $B_1, B_2$ y $B_3$\r\n",
        "\r\n",
        "(Ejemplos del artículo de Wikipedia sobre Eigenvalores y Eigenvectores)\r\n",
        "\r\n",
        "$$\\begin{equation*}\r\n",
        "B_1 = \\begin{bmatrix}\r\n",
        "2 & ; 0 & ; 0 \\\\\r\n",
        "0 & ; 3 & ; 4 \\\\\r\n",
        "0 & ; 4 & ; 9 \\\\\r\n",
        "\\end{bmatrix}\r\n",
        "\\end{equation*}$$$$\\begin{equation*}\r\n",
        "B_2 = \\begin{bmatrix}\r\n",
        "0 & ; 1 & ; 0 \\\\\r\n",
        "0 & ; 0 & ; 1 \\\\\r\n",
        "1 & ; 0 & ; 0 \\\\\r\n",
        "\\end{bmatrix}\r\n",
        "\\end{equation*}$$$$\\begin{equation*}\r\n",
        "B_3 = \\begin{bmatrix}\r\n",
        "2 & ; 0 & ; 0 & ; 0\\\\\r\n",
        "1 & ; 2 & ; 0 & ; 0 \\\\\r\n",
        "0 & ; 1 & ; 3 & ; 0 \\\\\r\n",
        "0 & ; 0 & ; 1 & ; 3 \\\\\r\n",
        "\\end{bmatrix}\r\n",
        "\\end{equation*}$$\r\n",
        "Encuentra los eigenvalores y eigenvectores de cada matriz utilizando la función de scipy.linalg.eig(), y contrasta tus resultados en cada caso con los que se desarrollan en los ejemplos de la Wikipedia."
      ]
    },
    {
      "cell_type": "code",
      "metadata": {
        "colab": {
          "base_uri": "https://localhost:8080/"
        },
        "id": "OZmQRriytkIO",
        "outputId": "c598e29a-c18f-4724-d1b6-c43bae73bf6f"
      },
      "source": [
        "B1 = np.array( [ [ 2., 0., 0. ], [ 0., 3., 4. ], [ 0., 4., 9. ] ] )\r\n",
        "print( B1 )\r\n",
        "B2 = np.array( [ [ 0, 1, 0 ], [ 0, 0, 1 ], [ 1, 0, 0 ] ] )\r\n",
        "print( B2 )\r\n",
        "B3 = np.array( [ [ 2, 0, 0, 0 ], [ 1, 2, 0, 0 ], [ 0, 1, 3, 0 ], [ 0, 0, 1, 3 ] ] )\r\n",
        "print( B3 )"
      ],
      "execution_count": 46,
      "outputs": [
        {
          "output_type": "stream",
          "text": [
            "[[2. 0. 0.]\n",
            " [0. 3. 4.]\n",
            " [0. 4. 9.]]\n",
            "[[0 1 0]\n",
            " [0 0 1]\n",
            " [1 0 0]]\n",
            "[[2 0 0 0]\n",
            " [1 2 0 0]\n",
            " [0 1 3 0]\n",
            " [0 0 1 3]]\n"
          ],
          "name": "stdout"
        }
      ]
    },
    {
      "cell_type": "code",
      "metadata": {
        "colab": {
          "base_uri": "https://localhost:8080/"
        },
        "id": "6S7z9YS2uGio",
        "outputId": "8fe9786c-ac38-4225-d560-8e0c684488b8"
      },
      "source": [
        "#B1\r\n",
        "eigval, eigvec = la.eig( B1)\r\n",
        "print( \"Eigenvalores\" )\r\n",
        "print( eigval )\r\n",
        "print( \"Eigenvectores\" )\r\n",
        "print( eigvec )\r\n",
        "vec1 = eigvec[ :, 0 ]\r\n",
        "vec2 = eigvec[ :, 1 ]\r\n",
        "print( \"Vec1 = \", vec1 )\r\n",
        "print( \"Vec2 = \", vec2 )\r\n",
        "print( \"Producto de matrices \", vec1@vec2 )\r\n",
        "print( \"Producto escalar \" , np.dot( vec1, vec2.T ) )"
      ],
      "execution_count": 49,
      "outputs": [
        {
          "output_type": "stream",
          "text": [
            "Eigenvalores\n",
            "[11.+0.j  1.+0.j  2.+0.j]\n",
            "Eigenvectores\n",
            "[[ 0.          0.          1.        ]\n",
            " [ 0.4472136   0.89442719  0.        ]\n",
            " [ 0.89442719 -0.4472136   0.        ]]\n",
            "Vec1 =  [0.         0.4472136  0.89442719]\n",
            "Vec2 =  [ 0.          0.89442719 -0.4472136 ]\n",
            "Producto de matrices  -1.2594923403361582e-17\n",
            "Producto escalar  -1.2594923403361582e-17\n"
          ],
          "name": "stdout"
        }
      ]
    },
    {
      "cell_type": "code",
      "metadata": {
        "colab": {
          "base_uri": "https://localhost:8080/"
        },
        "id": "ceJBUmKrugDM",
        "outputId": "a5ded606-4043-474c-8e00-73a3ec386e01"
      },
      "source": [
        "#B2\r\n",
        "eigval, eigvec = la.eig( B2 )\r\n",
        "print( \"Eigenvalores\" )\r\n",
        "print( eigval )\r\n",
        "print( \"Eigenvectores\" )\r\n",
        "print( eigvec )\r\n",
        "vec1 = eigvec[ :, 0 ]\r\n",
        "vec2 = eigvec[ :, 1 ]\r\n",
        "print( \"Vec1 = \", vec1 )\r\n",
        "print( \"Vec2 = \", vec2 )\r\n",
        "print( \"Producto DE MATRICES \", vec1@vec2 )\r\n",
        "print( \"Producto escalar\" , np.dot( vec1, vec2.T ) )"
      ],
      "execution_count": 50,
      "outputs": [
        {
          "output_type": "stream",
          "text": [
            "Eigenvalores\n",
            "[-0.5+0.8660254j -0.5-0.8660254j  1. +0.j       ]\n",
            "Eigenvectores\n",
            "[[ 0.57735027+0.j   0.57735027-0.j  -0.57735027+0.j ]\n",
            " [-0.28867513+0.5j -0.28867513-0.5j -0.57735027+0.j ]\n",
            " [-0.28867513-0.5j -0.28867513+0.5j -0.57735027+0.j ]]\n",
            "Vec1 =  [ 0.57735027+0.j  -0.28867513+0.5j -0.28867513-0.5j]\n",
            "Vec2 =  [ 0.57735027-0.j  -0.28867513-0.5j -0.28867513+0.5j]\n",
            "Producto DE MATRICES  (1+0j)\n",
            "Producto escalar (1+0j)\n"
          ],
          "name": "stdout"
        }
      ]
    },
    {
      "cell_type": "code",
      "metadata": {
        "colab": {
          "base_uri": "https://localhost:8080/"
        },
        "id": "14FeajWIuymw",
        "outputId": "d8670d6d-dee8-4ace-b49b-3734f9ec0564"
      },
      "source": [
        "#B3\r\n",
        "eigval, eigvec = la.eig( B3 )\r\n",
        "print( \"Eigenvalores\" )\r\n",
        "print( eigval )\r\n",
        "print( \"Eigenvectores\" )\r\n",
        "print( eigvec )\r\n",
        "vec1 = eigvec[ :, 0 ]\r\n",
        "vec2 = eigvec[ :, 1 ]\r\n",
        "vec3 = eigvec[ :, 2 ]\r\n",
        "print( \"Vec1 = \", vec1 )\r\n",
        "print( \"Vec2 = \", vec2 )\r\n",
        "print( \"Vec3 = \", vec3 )\r\n",
        "print( \"Producto de matrices \", vec1@vec2 )\r\n",
        "print( \"Producto escalar\" , np.dot( vec1, vec2.T ) )"
      ],
      "execution_count": 51,
      "outputs": [
        {
          "output_type": "stream",
          "text": [
            "Eigenvalores\n",
            "[3.+0.j 3.+0.j 2.+0.j 2.+0.j]\n",
            "Eigenvectores\n",
            "[[ 0.00000000e+00  0.00000000e+00  0.00000000e+00  2.56395025e-16]\n",
            " [ 0.00000000e+00  0.00000000e+00  5.77350269e-01 -5.77350269e-01]\n",
            " [ 0.00000000e+00  6.66133815e-16 -5.77350269e-01  5.77350269e-01]\n",
            " [ 1.00000000e+00 -1.00000000e+00  5.77350269e-01 -5.77350269e-01]]\n",
            "Vec1 =  [0. 0. 0. 1.]\n",
            "Vec2 =  [ 0.00000000e+00  0.00000000e+00  6.66133815e-16 -1.00000000e+00]\n",
            "Vec3 =  [ 0.          0.57735027 -0.57735027  0.57735027]\n",
            "Producto de matrices  -1.0\n",
            "Producto escalar -1.0\n"
          ],
          "name": "stdout"
        }
      ]
    },
    {
      "cell_type": "markdown",
      "metadata": {
        "id": "Yyph7w3AvEmI"
      },
      "source": [
        "ACTIVIDAD 5\r\n",
        "Se tienen los siguientes 8 puntos:\r\n",
        "\r\n",
        "$$\\begin{eqnarray*} \r\n",
        "(x&;&;y) \\\\\r\n",
        "(0.0 &;,&; 0.0), \\\\ \r\n",
        "(0.5 &;,&; 0.47942), \\\\ \r\n",
        "(1.0 &;,&; 0.84147), \\\\\r\n",
        "(1.5 &;,&; 0.99749), \\\\\r\n",
        "(2.0 &;,&; 0.90930), \\\\\r\n",
        "(2.5 &;,&; 0.59847), \\\\\r\n",
        "(3.0 &;,&; 0.14112), \\\\\r\n",
        "(3.5 &;,&; -0.35078) \\\\\r\n",
        "\\end{eqnarray*}$$\r\n",
        "Encuentre un polinomio interpolante $p(x)$ que pase por los 8 puntos.\r\n",
        "\r\n",
        "Sobreponga la función $y=\\sin(x)$ y contrástela con el polinomio $p(x)$."
      ]
    },
    {
      "cell_type": "code",
      "metadata": {
        "colab": {
          "base_uri": "https://localhost:8080/",
          "height": 399
        },
        "id": "2KT0BHMXva11",
        "outputId": "93168cea-efa4-4ebb-9d5b-dcb4b80d70de"
      },
      "source": [
        "coord = np.array( [ [ 0.0, 0.0 ], [ 0.5, 0.47942 ], [ 1.0, 0.84147 ], [ 1.5, 0.99749 ], [ 2.0, 0.90930 ], [ 2.5, 0.59847 ], [ 3.0, 0.14112 ], [ 3.5, -0.35078 ] ] )\r\n",
        "print( coord )\r\n",
        "y = coord[ :,0 ]\r\n",
        "x = coord[ :, 1]\r\n",
        "plt.plot(y,x, \"r.\") \r\n",
        "plt.grid()\r\n",
        "plt.show()"
      ],
      "execution_count": 52,
      "outputs": [
        {
          "output_type": "stream",
          "text": [
            "[[ 0.       0.     ]\n",
            " [ 0.5      0.47942]\n",
            " [ 1.       0.84147]\n",
            " [ 1.5      0.99749]\n",
            " [ 2.       0.9093 ]\n",
            " [ 2.5      0.59847]\n",
            " [ 3.       0.14112]\n",
            " [ 3.5     -0.35078]]\n"
          ],
          "name": "stdout"
        },
        {
          "output_type": "display_data",
          "data": {
            "image/png": "[encoded data removed]",
            "text/plain": [
              "<Figure size 432x288 with 1 Axes>"
            ]
          },
          "metadata": {
            "tags": [],
            "needs_background": "light"
          }
        }
      ]
    },
    {
      "cell_type": "code",
      "metadata": {
        "colab": {
          "base_uri": "https://localhost:8080/"
        },
        "id": "ahMSIKJevfYq",
        "outputId": "b7e954c7-0e40-42bc-eec9-805fc69534f9"
      },
      "source": [
        "N = 8\r\n",
        "x = coord[ :, 0 ] \r\n",
        "X = np.column_stack( [ x**k for k in range( 0, N ) ] )\r\n",
        "print( X )\r\n",
        "X = np.vander(x,increasing=True)\r\n",
        "print(X[:8,:8])"
      ],
      "execution_count": 53,
      "outputs": [
        {
          "output_type": "stream",
          "text": [
            "[[1.00000000e+00 0.00000000e+00 0.00000000e+00 0.00000000e+00\n",
            "  0.00000000e+00 0.00000000e+00 0.00000000e+00 0.00000000e+00]\n",
            " [1.00000000e+00 5.00000000e-01 2.50000000e-01 1.25000000e-01\n",
            "  6.25000000e-02 3.12500000e-02 1.56250000e-02 7.81250000e-03]\n",
            " [1.00000000e+00 1.00000000e+00 1.00000000e+00 1.00000000e+00\n",
            "  1.00000000e+00 1.00000000e+00 1.00000000e+00 1.00000000e+00]\n",
            " [1.00000000e+00 1.50000000e+00 2.25000000e+00 3.37500000e+00\n",
            "  5.06250000e+00 7.59375000e+00 1.13906250e+01 1.70859375e+01]\n",
            " [1.00000000e+00 2.00000000e+00 4.00000000e+00 8.00000000e+00\n",
            "  1.60000000e+01 3.20000000e+01 6.40000000e+01 1.28000000e+02]\n",
            " [1.00000000e+00 2.50000000e+00 6.25000000e+00 1.56250000e+01\n",
            "  3.90625000e+01 9.76562500e+01 2.44140625e+02 6.10351562e+02]\n",
            " [1.00000000e+00 3.00000000e+00 9.00000000e+00 2.70000000e+01\n",
            "  8.10000000e+01 2.43000000e+02 7.29000000e+02 2.18700000e+03]\n",
            " [1.00000000e+00 3.50000000e+00 1.22500000e+01 4.28750000e+01\n",
            "  1.50062500e+02 5.25218750e+02 1.83826562e+03 6.43392969e+03]]\n",
            "[[1.00000000e+00 0.00000000e+00 0.00000000e+00 0.00000000e+00\n",
            "  0.00000000e+00 0.00000000e+00 0.00000000e+00 0.00000000e+00]\n",
            " [1.00000000e+00 5.00000000e-01 2.50000000e-01 1.25000000e-01\n",
            "  6.25000000e-02 3.12500000e-02 1.56250000e-02 7.81250000e-03]\n",
            " [1.00000000e+00 1.00000000e+00 1.00000000e+00 1.00000000e+00\n",
            "  1.00000000e+00 1.00000000e+00 1.00000000e+00 1.00000000e+00]\n",
            " [1.00000000e+00 1.50000000e+00 2.25000000e+00 3.37500000e+00\n",
            "  5.06250000e+00 7.59375000e+00 1.13906250e+01 1.70859375e+01]\n",
            " [1.00000000e+00 2.00000000e+00 4.00000000e+00 8.00000000e+00\n",
            "  1.60000000e+01 3.20000000e+01 6.40000000e+01 1.28000000e+02]\n",
            " [1.00000000e+00 2.50000000e+00 6.25000000e+00 1.56250000e+01\n",
            "  3.90625000e+01 9.76562500e+01 2.44140625e+02 6.10351562e+02]\n",
            " [1.00000000e+00 3.00000000e+00 9.00000000e+00 2.70000000e+01\n",
            "  8.10000000e+01 2.43000000e+02 7.29000000e+02 2.18700000e+03]\n",
            " [1.00000000e+00 3.50000000e+00 1.22500000e+01 4.28750000e+01\n",
            "  1.50062500e+02 5.25218750e+02 1.83826562e+03 6.43392969e+03]]\n"
          ],
          "name": "stdout"
        }
      ]
    },
    {
      "cell_type": "code",
      "metadata": {
        "colab": {
          "base_uri": "https://localhost:8080/"
        },
        "id": "5VD5ScJyvlGl",
        "outputId": "a7878408-18cc-40d4-97a6-4df3f9e83a31"
      },
      "source": [
        "y = coord[ :, 1]\r\n",
        "y = np.array( y ).reshape( 8, 1 ) \r\n",
        "print( y )"
      ],
      "execution_count": 54,
      "outputs": [
        {
          "output_type": "stream",
          "text": [
            "[[ 0.     ]\n",
            " [ 0.47942]\n",
            " [ 0.84147]\n",
            " [ 0.99749]\n",
            " [ 0.9093 ]\n",
            " [ 0.59847]\n",
            " [ 0.14112]\n",
            " [-0.35078]]\n"
          ],
          "name": "stdout"
        }
      ]
    },
    {
      "cell_type": "code",
      "metadata": {
        "colab": {
          "base_uri": "https://localhost:8080/"
        },
        "id": "P-K0RzwovmM2",
        "outputId": "6ff5f8a2-9088-443f-ce56-406e2fda2b45"
      },
      "source": [
        "solve = la.solve( X, y )\r\n",
        "print ( solve )"
      ],
      "execution_count": 55,
      "outputs": [
        {
          "output_type": "stream",
          "text": [
            "[[ 0.00000000e+00]\n",
            " [ 1.00067181e+00]\n",
            " [-3.70788889e-03]\n",
            " [-1.58867889e-01]\n",
            " [-8.30222222e-03]\n",
            " [ 1.31964444e-02]\n",
            " [-1.54488889e-03]\n",
            " [ 2.46349206e-05]]\n"
          ],
          "name": "stdout"
        }
      ]
    },
    {
      "cell_type": "code",
      "metadata": {
        "colab": {
          "base_uri": "https://localhost:8080/",
          "height": 295
        },
        "id": "YXj_QG9KvqHV",
        "outputId": "5b37e5d5-b611-4f1a-b4be-edc19786ca27"
      },
      "source": [
        "xinter = np.linspace(0,4,200)\r\n",
        "yinter = sum( [ solve[ k ]*xinter**k for k in range( 0, N ) ] )\r\n",
        "fsin = np.sin( 2*x )\r\n",
        "plt.plot( x, y, 'r.', xinter, yinter, fsin )\r\n",
        "plt.grid()\r\n",
        "plt.title( \"Polinomio interpolante p(x)\" )\r\n",
        "plt.xlabel( \"x\" )\r\n",
        "plt.ylabel( \"y\" )\r\n",
        "plt.show()"
      ],
      "execution_count": 56,
      "outputs": [
        {
          "output_type": "display_data",
          "data": {
            "image/png": "[encoded data removed]",
            "text/plain": [
              "<Figure size 432x288 with 1 Axes>"
            ]
          },
          "metadata": {
            "tags": [],
            "needs_background": "light"
          }
        }
      ]
    },
    {
      "cell_type": "markdown",
      "metadata": {
        "id": "GTHRBqiOvw2W"
      },
      "source": [
        "ACTIVIDAD 6\r\n",
        "Regrese a su modelo de análisis de series de tiempo. Haga una descomposición de su serie de tiempo de las temperaturas (Tmax y Tmin), y realice una regresión lineal sobre la serie de Tendencia de Temp $(T = a_0 + a_1 t)$. Encuentre si la pendiente es positiva o negativa de la tendencia (signo de $a_1$), es decir si las Temperaturas (Tmax, Tmin) están subiendo o bajando en el periodo analizado."
      ]
    }
  ]
}